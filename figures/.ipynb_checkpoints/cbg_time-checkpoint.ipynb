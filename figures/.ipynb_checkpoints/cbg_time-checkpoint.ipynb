{
 "cells": [
  {
   "cell_type": "code",
   "execution_count": 1,
   "id": "15e75895-efc4-4225-ae23-38a9a1fe6527",
   "metadata": {},
   "outputs": [],
   "source": [
    "import pandas\n",
    "import numpy as np\n",
    "import bgshr\n",
    "import os, pickle\n",
    "from scipy.stats import gamma\n",
    "from scipy import interpolate\n",
    "from scipy.linalg import eig"
   ]
  },
  {
   "cell_type": "code",
   "execution_count": 29,
   "id": "b31cdc18-b486-4470-b14b-86ebcf1c7a67",
   "metadata": {},
   "outputs": [],
   "source": [
    "def stationary_distribution(P):\n",
    "    \n",
    "    P = np.array(P)\n",
    "    values, vectors = eig(P.T)\n",
    "    index = np.argmin(np.abs(values - 1))\n",
    "    pi = vectors[:, index].real\n",
    "    pi /= pi.sum()\n",
    "    return pi"
   ]
  },
  {
   "cell_type": "code",
   "execution_count": 39,
   "id": "8b3c50f7-8e3f-4ac4-8416-36ee53cd0b8b",
   "metadata": {},
   "outputs": [
    {
     "data": {
      "text/plain": [
       "array([[-1.00050001e+00,  4.00000000e-04,  0.00000000e+00],\n",
       "       [ 2.01979800e+02, -2.01980000e+02,  2.00000000e-04],\n",
       "       [ 0.00000000e+00,  4.03959600e+02, -1.04039596e+04]])"
      ]
     },
     "execution_count": 39,
     "metadata": {},
     "output_type": "execute_result"
    }
   ],
   "source": [
    "Ns = [1000, 10000]\n",
    "Ts = [0, 25000]\n",
    "s_vals = [-0.01, -0.005, -0.004, -0.003, -0.002, -0.001]\n",
    "r = 1e-4\n",
    "u = 1e-6\n",
    "\n",
    "mat_sub_anc = bgshr.ClassicBGS._sub_intensity_matrix(Ns[-1], s_vals[0], u, r, Ns[-1])\n",
    "mat_sub_bot = bgshr.ClassicBGS._sub_intensity_matrix(Ns[0], s_vals[0], u, r, Ns[-1])"
   ]
  },
  {
   "cell_type": "code",
   "execution_count": 34,
   "id": "0ce2cb41-5f34-443d-90af-c76c964dd5d0",
   "metadata": {},
   "outputs": [],
   "source": [
    "def intensity_matrix(N_epoch, s, u, r, Ne):\n",
    "    q = u / -s\n",
    "    p = 1 - q\n",
    "    b12 = q * r\n",
    "    b21 = p * (-s + r)\n",
    "    nu = N_epoch / Ne  # size relative to Ne\n",
    "    S = np.array(\n",
    "        [\n",
    "            [1 - b12, 0, 0, 0, b12 ],\n",
    "            [1 / (2 * Ne * nu * p), 1 - 2 * b12 - 1 / (2 * Ne * nu * p), 2 * b12,  0,  0],\n",
    "            [0, b21, 1 - b12 - b21, b12, 0],\n",
    "            [0, 0, b21, 1 - 2 * b21 - 1 / (2 * Ne * nu * q), 1 / (2 * Ne * nu * q)],\n",
    "            [b21, 0, 0, 0, 1 - b21]\n",
    "        ]\n",
    "    )\n",
    "    return S"
   ]
  },
  {
   "cell_type": "code",
   "execution_count": 35,
   "id": "938385ee-ebc2-4996-9448-4eae2b0c26cb",
   "metadata": {},
   "outputs": [],
   "source": [
    "q = u / - s_vals[0]\n",
    "p = 1 - q\n",
    "b12 = q * r\n",
    "b21 = p * (-s_vals[0] + r)\n",
    "nu = 1"
   ]
  },
  {
   "cell_type": "code",
   "execution_count": 36,
   "id": "4d3c0e30-7d50-4c9a-9da3-612f40ad44e8",
   "metadata": {},
   "outputs": [
    {
     "name": "stdout",
     "output_type": "stream",
     "text": [
      "0.999998019606882\n",
      "9.804901962697231e-13\n",
      "1.980392137560453e-06\n"
     ]
    }
   ],
   "source": [
    "# \"manual\" stationary distribution\n",
    "c_20 = (b21 / (b21 + b12)) ** 2\n",
    "c_02 = (b12 / (b21 + b12)) ** 2\n",
    "c_11 = 1 - c_20 - c_02\n",
    "\n",
    "print(c_20)\n",
    "print(c_02)\n",
    "print(c_11)"
   ]
  },
  {
   "cell_type": "code",
   "execution_count": 50,
   "id": "2c9c0f6b-4a42-489e-997a-41c1d64deff9",
   "metadata": {},
   "outputs": [],
   "source": [
    "mat_anc = intensity_matrix(Ns[-1], s_vals[0], u, r, Ns[-1])\n",
    "mat_bot = intensity_matrix(Ns[0], s_vals[0], u, r, Ns[-1])"
   ]
  },
  {
   "cell_type": "code",
   "execution_count": 48,
   "id": "254db37e-3437-43a0-abae-051b7eb0fe0c",
   "metadata": {},
   "outputs": [],
   "source": [
    "def sub_matrix(N_epoch, s, u, r, Ne):\n",
    "    q = u / -s\n",
    "    p = 1 - q\n",
    "    b12 = q * r\n",
    "    b21 = p * (-s + r)\n",
    "    nu = N_epoch / Ne  # size relative to Ne\n",
    "    S = np.array(\n",
    "        [\n",
    "            [1 - 2 * b12 - 1 / (2 * Ne * nu * p), 2 * b12,  0],\n",
    "            [b21, 1 - b12 - b21, b12],\n",
    "            [0, b21, 1 - 2 * b21 - 1 / (2 * Ne * nu * q)],\n",
    "        ]\n",
    "    )\n",
    "    return S"
   ]
  },
  {
   "cell_type": "code",
   "execution_count": 52,
   "id": "01eda1d8-9d36-4312-bcc1-4a864edc2c92",
   "metadata": {},
   "outputs": [
    {
     "data": {
      "text/plain": [
       "array([[9.99949975e-01, 2.00000000e-08, 0.00000000e+00],\n",
       "       [1.00989900e-02, 9.89901000e-01, 1.00000000e-08],\n",
       "       [0.00000000e+00, 1.00989900e-02, 4.79802020e-01]])"
      ]
     },
     "execution_count": 52,
     "metadata": {},
     "output_type": "execute_result"
    }
   ],
   "source": [
    "sub_anc = sub_matrix(Ns[-1], s_vals[0], u, r, Ns[-1])\n",
    "sub_anc"
   ]
  },
  {
   "cell_type": "code",
   "execution_count": 63,
   "id": "f08e250e-fd54-4e15-bcaf-368aaf688e63",
   "metadata": {},
   "outputs": [
    {
     "name": "stdout",
     "output_type": "stream",
     "text": [
      "[9.99948005e-01 1.99014535e-06 3.82611381e-14]\n",
      "[9.99947985e-01 1.01009400e-02 2.00994814e-08]\n"
     ]
    }
   ],
   "source": [
    "p = stationary_distribution(mat_sub_anc)\n",
    "\n",
    "x = p\n",
    "\n",
    "for g in range(1000):\n",
    "    x = sub_anc @ x\n",
    "    print(x)"
   ]
  },
  {
   "cell_type": "code",
   "execution_count": null,
   "id": "bc2b07f4-1ce9-4a02-9256-2d2615f0d7c7",
   "metadata": {},
   "outputs": [],
   "source": []
  }
 ],
 "metadata": {
  "kernelspec": {
   "display_name": "Python 3 (ipykernel)",
   "language": "python",
   "name": "python3"
  },
  "language_info": {
   "codemirror_mode": {
    "name": "ipython",
    "version": 3
   },
   "file_extension": ".py",
   "mimetype": "text/x-python",
   "name": "python",
   "nbconvert_exporter": "python",
   "pygments_lexer": "ipython3",
   "version": "3.12.3"
  }
 },
 "nbformat": 4,
 "nbformat_minor": 5
}
